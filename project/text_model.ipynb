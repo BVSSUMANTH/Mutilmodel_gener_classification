{
 "cells": [
  {
   "cell_type": "code",
   "execution_count": 11,
   "id": "da960196",
   "metadata": {},
   "outputs": [
    {
     "name": "stdout",
     "output_type": "stream",
     "text": [
      "Using device: cuda\n",
      "Loading GloVe...\n",
      "Loaded 400000 word vectors.\n"
     ]
    },
    {
     "name": "stderr",
     "output_type": "stream",
     "text": [
      "C:\\Users\\SUMANTH\\AppData\\Local\\Packages\\PythonSoftwareFoundation.Python.3.11_qbz5n2kfra8p0\\LocalCache\\local-packages\\Python311\\site-packages\\torch\\nn\\modules\\rnn.py:123: UserWarning: dropout option adds dropout after all but last recurrent layer, so non-zero dropout expects num_layers greater than 1, but got dropout=0.3 and num_layers=1\n",
      "  warnings.warn(\n"
     ]
    },
    {
     "name": "stdout",
     "output_type": "stream",
     "text": [
      "\n",
      "===== Epoch 1/50 =====\n"
     ]
    },
    {
     "name": "stderr",
     "output_type": "stream",
     "text": [
      "Training Epoch 1: 100%|██████████| 406/406 [00:11<00:00, 34.22it/s]\n"
     ]
    },
    {
     "name": "stdout",
     "output_type": "stream",
     "text": [
      "Train Loss: 138.6649 | Val Loss: 15.3553 | Val Acc: 0.8824\n",
      " Best model saved!\n",
      "\n",
      "===== Epoch 2/50 =====\n"
     ]
    },
    {
     "name": "stderr",
     "output_type": "stream",
     "text": [
      "Training Epoch 2: 100%|██████████| 406/406 [00:11<00:00, 34.54it/s]\n"
     ]
    },
    {
     "name": "stdout",
     "output_type": "stream",
     "text": [
      "Train Loss: 118.0512 | Val Loss: 13.9919 | Val Acc: 0.8874\n",
      " Best model saved!\n",
      "\n",
      "===== Epoch 3/50 =====\n"
     ]
    },
    {
     "name": "stderr",
     "output_type": "stream",
     "text": [
      "Training Epoch 3: 100%|██████████| 406/406 [00:11<00:00, 35.62it/s]\n"
     ]
    },
    {
     "name": "stdout",
     "output_type": "stream",
     "text": [
      "Train Loss: 112.8009 | Val Loss: 13.7166 | Val Acc: 0.8909\n",
      " Best model saved!\n",
      "\n",
      "===== Epoch 4/50 =====\n"
     ]
    },
    {
     "name": "stderr",
     "output_type": "stream",
     "text": [
      "Training Epoch 4: 100%|██████████| 406/406 [00:12<00:00, 31.41it/s]\n"
     ]
    },
    {
     "name": "stdout",
     "output_type": "stream",
     "text": [
      "Train Loss: 109.6523 | Val Loss: 13.4076 | Val Acc: 0.8926\n",
      " Best model saved!\n",
      "\n",
      "===== Epoch 5/50 =====\n"
     ]
    },
    {
     "name": "stderr",
     "output_type": "stream",
     "text": [
      "Training Epoch 5: 100%|██████████| 406/406 [00:11<00:00, 34.46it/s]\n"
     ]
    },
    {
     "name": "stdout",
     "output_type": "stream",
     "text": [
      "Train Loss: 107.4065 | Val Loss: 13.4139 | Val Acc: 0.8938\n",
      "\n",
      "===== Epoch 6/50 =====\n"
     ]
    },
    {
     "name": "stderr",
     "output_type": "stream",
     "text": [
      "Training Epoch 6: 100%|██████████| 406/406 [00:12<00:00, 33.65it/s]\n"
     ]
    },
    {
     "name": "stdout",
     "output_type": "stream",
     "text": [
      "Train Loss: 105.9434 | Val Loss: 13.3035 | Val Acc: 0.8943\n",
      " Best model saved!\n",
      "\n",
      "===== Epoch 7/50 =====\n"
     ]
    },
    {
     "name": "stderr",
     "output_type": "stream",
     "text": [
      "Training Epoch 7: 100%|██████████| 406/406 [00:11<00:00, 34.80it/s]\n"
     ]
    },
    {
     "name": "stdout",
     "output_type": "stream",
     "text": [
      "Train Loss: 104.7348 | Val Loss: 13.3096 | Val Acc: 0.8940\n",
      "\n",
      "===== Epoch 8/50 =====\n"
     ]
    },
    {
     "name": "stderr",
     "output_type": "stream",
     "text": [
      "Training Epoch 8: 100%|██████████| 406/406 [00:12<00:00, 32.08it/s]\n"
     ]
    },
    {
     "name": "stdout",
     "output_type": "stream",
     "text": [
      "Train Loss: 103.5245 | Val Loss: 13.1162 | Val Acc: 0.8954\n",
      " Best model saved!\n",
      "\n",
      "===== Epoch 9/50 =====\n"
     ]
    },
    {
     "name": "stderr",
     "output_type": "stream",
     "text": [
      "Training Epoch 9: 100%|██████████| 406/406 [00:12<00:00, 32.53it/s]\n"
     ]
    },
    {
     "name": "stdout",
     "output_type": "stream",
     "text": [
      "Train Loss: 102.4020 | Val Loss: 13.0535 | Val Acc: 0.8963\n",
      " Best model saved!\n",
      "\n",
      "===== Epoch 10/50 =====\n"
     ]
    },
    {
     "name": "stderr",
     "output_type": "stream",
     "text": [
      "Training Epoch 10: 100%|██████████| 406/406 [00:12<00:00, 33.56it/s]\n"
     ]
    },
    {
     "name": "stdout",
     "output_type": "stream",
     "text": [
      "Train Loss: 101.2352 | Val Loss: 13.0026 | Val Acc: 0.8967\n",
      " Best model saved!\n",
      "\n",
      "===== Epoch 11/50 =====\n"
     ]
    },
    {
     "name": "stderr",
     "output_type": "stream",
     "text": [
      "Training Epoch 11: 100%|██████████| 406/406 [00:11<00:00, 36.82it/s]\n"
     ]
    },
    {
     "name": "stdout",
     "output_type": "stream",
     "text": [
      "Train Loss: 100.0761 | Val Loss: 12.9919 | Val Acc: 0.8968\n",
      " Best model saved!\n",
      "\n",
      "===== Epoch 12/50 =====\n"
     ]
    },
    {
     "name": "stderr",
     "output_type": "stream",
     "text": [
      "Training Epoch 12: 100%|██████████| 406/406 [00:11<00:00, 36.52it/s]\n"
     ]
    },
    {
     "name": "stdout",
     "output_type": "stream",
     "text": [
      "Train Loss: 99.2729 | Val Loss: 12.9823 | Val Acc: 0.8970\n",
      " Best model saved!\n",
      "\n",
      "===== Epoch 13/50 =====\n"
     ]
    },
    {
     "name": "stderr",
     "output_type": "stream",
     "text": [
      "Training Epoch 13: 100%|██████████| 406/406 [00:11<00:00, 36.73it/s]\n"
     ]
    },
    {
     "name": "stdout",
     "output_type": "stream",
     "text": [
      "Train Loss: 98.3976 | Val Loss: 12.9956 | Val Acc: 0.8972\n",
      "\n",
      "===== Epoch 14/50 =====\n"
     ]
    },
    {
     "name": "stderr",
     "output_type": "stream",
     "text": [
      "Training Epoch 14: 100%|██████████| 406/406 [00:10<00:00, 37.18it/s]\n"
     ]
    },
    {
     "name": "stdout",
     "output_type": "stream",
     "text": [
      "Train Loss: 97.7589 | Val Loss: 13.0053 | Val Acc: 0.8963\n",
      "\n",
      "===== Epoch 15/50 =====\n"
     ]
    },
    {
     "name": "stderr",
     "output_type": "stream",
     "text": [
      "Training Epoch 15: 100%|██████████| 406/406 [00:10<00:00, 37.25it/s]\n"
     ]
    },
    {
     "name": "stdout",
     "output_type": "stream",
     "text": [
      "Train Loss: 96.6773 | Val Loss: 12.9697 | Val Acc: 0.8969\n",
      " Best model saved!\n",
      "\n",
      "===== Epoch 16/50 =====\n"
     ]
    },
    {
     "name": "stderr",
     "output_type": "stream",
     "text": [
      "Training Epoch 16: 100%|██████████| 406/406 [00:10<00:00, 36.99it/s]\n"
     ]
    },
    {
     "name": "stdout",
     "output_type": "stream",
     "text": [
      "Train Loss: 96.1317 | Val Loss: 12.9522 | Val Acc: 0.8978\n",
      " Best model saved!\n",
      "\n",
      "===== Epoch 17/50 =====\n"
     ]
    },
    {
     "name": "stderr",
     "output_type": "stream",
     "text": [
      "Training Epoch 17: 100%|██████████| 406/406 [00:10<00:00, 37.33it/s]\n"
     ]
    },
    {
     "name": "stdout",
     "output_type": "stream",
     "text": [
      "Train Loss: 95.4210 | Val Loss: 13.0225 | Val Acc: 0.8967\n",
      "\n",
      "===== Epoch 18/50 =====\n"
     ]
    },
    {
     "name": "stderr",
     "output_type": "stream",
     "text": [
      "Training Epoch 18: 100%|██████████| 406/406 [00:10<00:00, 37.41it/s]\n"
     ]
    },
    {
     "name": "stdout",
     "output_type": "stream",
     "text": [
      "Train Loss: 94.8608 | Val Loss: 13.1456 | Val Acc: 0.8957\n",
      "\n",
      "===== Epoch 19/50 =====\n"
     ]
    },
    {
     "name": "stderr",
     "output_type": "stream",
     "text": [
      "Training Epoch 19: 100%|██████████| 406/406 [00:10<00:00, 36.94it/s]\n"
     ]
    },
    {
     "name": "stdout",
     "output_type": "stream",
     "text": [
      "Train Loss: 94.2147 | Val Loss: 13.0392 | Val Acc: 0.8970\n",
      "\n",
      "===== Epoch 20/50 =====\n"
     ]
    },
    {
     "name": "stderr",
     "output_type": "stream",
     "text": [
      "Training Epoch 20: 100%|██████████| 406/406 [00:10<00:00, 36.99it/s]\n"
     ]
    },
    {
     "name": "stdout",
     "output_type": "stream",
     "text": [
      "Train Loss: 87.4372 | Val Loss: 13.1847 | Val Acc: 0.8972\n",
      "\n",
      "===== Epoch 21/50 =====\n"
     ]
    },
    {
     "name": "stderr",
     "output_type": "stream",
     "text": [
      "Training Epoch 21: 100%|██████████| 406/406 [00:10<00:00, 37.03it/s]\n"
     ]
    },
    {
     "name": "stdout",
     "output_type": "stream",
     "text": [
      "Train Loss: 84.9192 | Val Loss: 13.2535 | Val Acc: 0.8961\n",
      " Early stopping.\n",
      "\n",
      " Test Classification Report:\n",
      "                 precision    recall  f1-score   support\n",
      "\n",
      "         Action       0.59      0.43      0.49      1008\n",
      "      Adventure       0.50      0.18      0.26       624\n",
      "      Animation       0.64      0.32      0.42       707\n",
      "         Comedy       0.65      0.19      0.30      1401\n",
      "          Crime       0.55      0.32      0.40       678\n",
      "    Documentary       0.78      0.64      0.70       909\n",
      "          Drama       0.63      0.50      0.56      2186\n",
      "         Family       0.56      0.31      0.40       643\n",
      "        Fantasy       0.64      0.05      0.09       575\n",
      "        History       0.56      0.31      0.40       490\n",
      "         Horror       0.71      0.42      0.53       883\n",
      "          Music       0.79      0.58      0.67       559\n",
      "        Mystery       0.62      0.01      0.02       541\n",
      "        Romance       0.60      0.25      0.36       815\n",
      "Science Fiction       0.63      0.41      0.50       608\n",
      "       TV Movie       0.00      0.00      0.00       660\n",
      "       Thriller       0.63      0.28      0.39      1130\n",
      "            War       0.65      0.35      0.46       258\n",
      "        Western       0.00      0.00      0.00        93\n",
      "\n",
      "      micro avg       0.64      0.33      0.44     14768\n",
      "      macro avg       0.56      0.29      0.37     14768\n",
      "   weighted avg       0.60      0.33      0.41     14768\n",
      "    samples avg       0.51      0.37      0.40     14768\n",
      "\n",
      "\n",
      "Final Test Accuracy: 0.8976\n"
     ]
    },
    {
     "data": {
      "image/png": "[encoded data removed]",
      "text/plain": [
       "<Figure size 1000x500 with 1 Axes>"
      ]
     },
     "metadata": {},
     "output_type": "display_data"
    },
    {
     "data": {
      "image/png": "[encoded data removed]",
      "text/plain": [
       "<Figure size 1000x500 with 1 Axes>"
      ]
     },
     "metadata": {},
     "output_type": "display_data"
    }
   ],
   "source": [
    "import os\n",
    "import re\n",
    "import torch\n",
    "import torch.nn as nn\n",
    "import torch.optim as optim\n",
    "import numpy as np\n",
    "import pandas as pd\n",
    "import matplotlib.pyplot as plt\n",
    "from torch.nn.utils.rnn import pad_sequence\n",
    "from torch.utils.data import Dataset, DataLoader\n",
    "from sklearn.metrics import classification_report\n",
    "from collections import Counter\n",
    "from tqdm import tqdm\n",
    "\n",
    "# === Config ===\n",
    "device = torch.device(\"cuda\" if torch.cuda.is_available() else \"cpu\")\n",
    "print(\"Using device:\", device)\n",
    "\n",
    "MAX_LEN = 128\n",
    "EMBED_DIM = 100\n",
    "HIDDEN_DIM = 128\n",
    "BATCH_SIZE = 128\n",
    "EPOCHS = 50\n",
    "LR = 1e-3\n",
    "PATIENCE = 5\n",
    "\n",
    "# === Load Data ===\n",
    "train_df = pd.read_csv(\"train_balanced_clean.csv\")\n",
    "val_df = pd.read_csv(\"val_balanced_clean.csv\")\n",
    "test_df = pd.read_csv(\"test_balanced_clean.csv\")\n",
    "\n",
    "label_cols = [col for col in train_df.columns if col != 'overview']\n",
    "train_df[label_cols] = train_df[label_cols].astype(float)\n",
    "val_df[label_cols] = val_df[label_cols].astype(float)\n",
    "test_df[label_cols] = test_df[label_cols].astype(float)\n",
    "\n",
    "# === Tokenization & Vocabulary ===\n",
    "def tokenize(text):\n",
    "    return re.findall(r\"\\b\\w+\\b\", str(text).lower())\n",
    "\n",
    "counter = Counter()\n",
    "for text in train_df[\"overview\"]:\n",
    "    counter.update(tokenize(text))\n",
    "\n",
    "vocab = {word: idx + 2 for idx, (word, _) in enumerate(counter.items())}\n",
    "vocab[\"<pad>\"] = 0\n",
    "vocab[\"<unk>\"] = 1\n",
    "\n",
    "# === Load GloVe Embeddings ===\n",
    "def load_glove(path):\n",
    "    embeddings = {}\n",
    "    with open(path, 'r', encoding='utf8') as f:\n",
    "        for line in f:\n",
    "            parts = line.strip().split(' ')\n",
    "            word, vector = parts[0], np.array(parts[1:], dtype=np.float32)\n",
    "            embeddings[word] = vector\n",
    "    return embeddings\n",
    "\n",
    "glove_path = 'glove.6B.100d.txt'\n",
    "print(\"Loading GloVe...\")\n",
    "glove_embeddings = load_glove(glove_path)\n",
    "print(f\"Loaded {len(glove_embeddings)} word vectors.\")\n",
    "\n",
    "embedding_matrix = torch.randn(len(vocab), EMBED_DIM)\n",
    "glove_mean = np.mean(list(glove_embeddings.values()), axis=0)\n",
    "\n",
    "for word, idx in vocab.items():\n",
    "    if word in glove_embeddings:\n",
    "        embedding_matrix[idx] = torch.tensor(glove_embeddings[word])\n",
    "    else:\n",
    "        embedding_matrix[idx] = torch.tensor(glove_mean)\n",
    "\n",
    "# === Dataset and DataLoader ===\n",
    "def encode(text):\n",
    "    return torch.tensor([vocab.get(token, 1) for token in tokenize(text)], dtype=torch.long)\n",
    "\n",
    "def collate_fn(batch):\n",
    "    texts, labels = zip(*batch)\n",
    "    encodings = [encode(text)[:MAX_LEN] for text in texts]\n",
    "    padded = pad_sequence(encodings, batch_first=True, padding_value=0)\n",
    "    label_tensor = torch.tensor(labels, dtype=torch.float)\n",
    "    return padded, label_tensor\n",
    "\n",
    "class TextDataset(Dataset):\n",
    "    def __init__(self, dataframe):\n",
    "        self.texts = dataframe[\"overview\"].tolist()\n",
    "        self.labels = dataframe[label_cols].values.tolist()\n",
    "    def __len__(self):\n",
    "        return len(self.labels)\n",
    "    def __getitem__(self, idx):\n",
    "        return self.texts[idx], self.labels[idx]\n",
    "\n",
    "train_loader = DataLoader(TextDataset(train_df), batch_size=BATCH_SIZE, shuffle=True, collate_fn=collate_fn)\n",
    "val_loader = DataLoader(TextDataset(val_df), batch_size=BATCH_SIZE, collate_fn=collate_fn)\n",
    "test_loader = DataLoader(TextDataset(test_df), batch_size=BATCH_SIZE, collate_fn=collate_fn)\n",
    "\n",
    "# === Model ===\n",
    "class LSTMClassifier(nn.Module):\n",
    "    def __init__(self, vocab_size, embed_dim, hidden_dim, num_classes, weights):\n",
    "        super().__init__()\n",
    "        self.embedding = nn.Embedding.from_pretrained(weights, freeze=False)\n",
    "        self.embedding_dropout = nn.Dropout(0.2)\n",
    "        self.lstm = nn.LSTM(embed_dim, hidden_dim, batch_first=True, bidirectional=True, dropout=0.3)\n",
    "        self.dropout_fc = nn.Dropout(0.5)\n",
    "        self.fc = nn.Linear(hidden_dim * 2, num_classes)\n",
    "\n",
    "    def forward(self, x):\n",
    "        x = self.embedding_dropout(self.embedding(x))\n",
    "        _, (hidden, _) = self.lstm(x)\n",
    "        hidden = torch.cat((hidden[-2], hidden[-1]), dim=1)\n",
    "        return self.fc(self.dropout_fc(hidden))\n",
    "\n",
    "model = LSTMClassifier(len(vocab), EMBED_DIM, HIDDEN_DIM, len(label_cols), embedding_matrix).to(device)\n",
    "\n",
    "optimizer = optim.Adam(model.parameters(), lr=LR, weight_decay=1e-4)\n",
    "criterion = nn.BCEWithLogitsLoss()\n",
    "scheduler = torch.optim.lr_scheduler.ReduceLROnPlateau(optimizer, mode='min', factor=0.3, patience=2, min_lr=1e-6)\n",
    "\n",
    "# === Training ===\n",
    "train_losses, val_losses, val_accs = [], [], []\n",
    "best_val_loss = float('inf')\n",
    "wait = 0\n",
    "\n",
    "for epoch in range(EPOCHS):\n",
    "    print(f\"\\n===== Epoch {epoch+1}/{EPOCHS} =====\")\n",
    "    model.train()\n",
    "    total_loss = 0\n",
    "\n",
    "    for x_batch, y_batch in tqdm(train_loader, desc=f\"Training Epoch {epoch+1}\"):\n",
    "        x_batch, y_batch = x_batch.to(device), y_batch.to(device)\n",
    "        optimizer.zero_grad()\n",
    "        output = model(x_batch)\n",
    "        loss = criterion(output, y_batch)\n",
    "        loss.backward()\n",
    "        nn.utils.clip_grad_norm_(model.parameters(), 1.0)\n",
    "        optimizer.step()\n",
    "        total_loss += loss.item()\n",
    "\n",
    "    # Validation\n",
    "    model.eval()\n",
    "    val_loss, preds_list, targets_list = 0, [], []\n",
    "    with torch.no_grad():\n",
    "        for x_batch, y_batch in val_loader:\n",
    "            x_batch, y_batch = x_batch.to(device), y_batch.to(device)\n",
    "            output = model(x_batch)\n",
    "            val_loss += criterion(output, y_batch).item()\n",
    "            preds = (torch.sigmoid(output).cpu().numpy() >= 0.5).astype(int)\n",
    "            preds_list.extend(preds.tolist())\n",
    "            targets_list.extend(y_batch.cpu().numpy().tolist())\n",
    "\n",
    "    preds_array = np.array(preds_list)\n",
    "    targets_array = np.array(targets_list)\n",
    "    acc_per_sample = (preds_array == targets_array).sum(axis=1) / targets_array.shape[1]\n",
    "    val_acc = acc_per_sample.mean()\n",
    "\n",
    "    train_losses.append(total_loss)\n",
    "    val_losses.append(val_loss)\n",
    "    val_accs.append(val_acc)\n",
    "\n",
    "    scheduler.step(val_loss)\n",
    "\n",
    "    print(f\"Train Loss: {total_loss:.4f} | Val Loss: {val_loss:.4f} | Val Acc: {val_acc:.4f}\")\n",
    "\n",
    "    if val_loss < best_val_loss:\n",
    "        best_val_loss = val_loss\n",
    "        wait = 0\n",
    "        torch.save(model.state_dict(), \"best_multilabel_lstm_balanced.pt\")\n",
    "        print(\" Best model saved!\")\n",
    "    else:\n",
    "        wait += 1\n",
    "        if wait >= PATIENCE:\n",
    "            print(\" Early stopping.\")\n",
    "            break\n",
    "\n",
    "# === Testing ===\n",
    "model.load_state_dict(torch.load(\"best_multilabel_lstm_balanced.pt\"))\n",
    "model.eval()\n",
    "\n",
    "test_preds, test_true = [], []\n",
    "with torch.no_grad():\n",
    "    for x_batch, y_batch in test_loader:\n",
    "        x_batch = x_batch.to(device)\n",
    "        output = model(x_batch)\n",
    "        preds = (torch.sigmoid(output).cpu().numpy() >= 0.5).astype(int)\n",
    "        test_preds.extend(preds.tolist())\n",
    "        test_true.extend(y_batch.tolist())\n",
    "\n",
    "print(\"\\n Test Classification Report:\")\n",
    "print(classification_report(test_true, test_preds, target_names=[str(c) for c in label_cols], zero_division=0))\n",
    "\n",
    "# === Final Test Accuracy ===\n",
    "test_preds_np = np.array(test_preds)\n",
    "test_true_np = np.array(test_true)\n",
    "correct_per_sample = (test_preds_np == test_true_np).sum(axis=1)\n",
    "final_acc = (correct_per_sample / test_true_np.shape[1]).mean()\n",
    "print(f\"\\nFinal Test Accuracy: {final_acc:.4f}\")\n",
    "\n",
    "# === Visualization ===\n",
    "epochs_ran = list(range(1, len(train_losses) + 1))\n",
    "\n",
    "plt.figure(figsize=(10, 5))\n",
    "plt.plot(epochs_ran, train_losses, label='Train Loss')\n",
    "plt.plot(epochs_ran, val_losses, label='Validation Loss')\n",
    "plt.xlabel(\"Epoch\")\n",
    "plt.ylabel(\"Loss\")\n",
    "plt.title(\"Training & Validation Loss\")\n",
    "plt.legend()\n",
    "plt.grid(True)\n",
    "plt.show()\n",
    "\n",
    "plt.figure(figsize=(10, 5))\n",
    "plt.plot(epochs_ran, val_accs, label='Validation Accuracy', color='green')\n",
    "plt.xlabel(\"Epoch\")\n",
    "plt.ylabel(\"Accuracy\")\n",
    "plt.title(\"Validation Accuracy Over Epochs\")\n",
    "plt.legend()\n",
    "plt.grid(True)\n",
    "plt.show()\n"
   ]
  },
  {
   "cell_type": "code",
   "execution_count": null,
   "id": "f810f334",
   "metadata": {},
   "outputs": [],
   "source": []
  }
 ],
 "metadata": {
  "kernelspec": {
   "display_name": "Python 3",
   "language": "python",
   "name": "python3"
  },
  "language_info": {
   "codemirror_mode": {
    "name": "ipython",
    "version": 3
   },
   "file_extension": ".py",
   "mimetype": "text/x-python",
   "name": "python",
   "nbconvert_exporter": "python",
   "pygments_lexer": "ipython3",
   "version": "3.11.9"
  }
 },
 "nbformat": 4,
 "nbformat_minor": 5
}
